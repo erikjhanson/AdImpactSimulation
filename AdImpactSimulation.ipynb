{
 "cells": [
  {
   "cell_type": "markdown",
   "metadata": {},
   "source": [
    "# AdImpactSimulation\n",
    "\n",
    "This is a simple simulation of the impact of brand and targeted direct response advertising\n",
    "on purchase decisions."
   ]
  },
  {
   "cell_type": "markdown",
   "metadata": {},
   "source": [
    "## User Needs\n",
    "\n",
    "People (users) have \"needs\" for products and services which change over time.\n",
    "Needs for products that are consumed regularly, like food and shampoo, increase as\n",
    "existing products are consumed.  Needs for other products, like new electronic devices,\n",
    "only develop as consumers learn about the products and how they might be useful.\n",
    "Advertising can help make people aware of new products and ways that they might be helpful,\n",
    "and this can increase the need for those products.\n",
    "\n",
    "We'll start by using the same needs for all users.  Later, we might want different\n",
    "levels of needs for different demographic groups.\n",
    "\n",
    "Our similation will look at needs and advertising over time in weekly units of time.\n"
   ]
  },
  {
   "cell_type": "code",
   "execution_count": 2,
   "metadata": {},
   "outputs": [],
   "source": [
    "# Time unit\n",
    "time_unit_name = \"week\"\n",
    "\n",
    "# General time-based need for a product.\n",
    "# A typical user's need will increase by about this much each week, regardless on advertising.\n",
    "time_based_need = 1 / 52\n",
    "\n",
    "# General brand advertising-based need for a product.\n",
    "# One ad for a product in the past week will result in this much need for a typical user\n",
    "# who may be likely to purchase the product.\n",
    "# (Some products are only appropriate for a subset of the population.)\n",
    "brand_based_need = 1 / 100"
   ]
  },
  {
   "cell_type": "markdown",
   "metadata": {},
   "source": [
    "## Brands\n",
    "\n",
    "The simulations will assume that there are multiple brands producing competing products.\n",
    "Each brand can have difference levels of brand and direct response advertising and\n",
    "different search rankings (which might include natural or paid search).\n",
    "\n",
    "We'll start by using the same advertising levels for all users.  Later, we might want different\n",
    "levels of advertising for different demographic groups."
   ]
  },
  {
   "cell_type": "code",
   "execution_count": 3,
   "metadata": {},
   "outputs": [],
   "source": [
    "import random\n",
    "\n",
    "# The number of advertisers / product manufacturers in the simulation\n",
    "advertiser_count = 4\n",
    "\n",
    "# The names of the advertisers / product manufacturers\n",
    "advertiser_names = [\"Advertiser \" + str(i + 1) for i in range(advertiser_count)]\n",
    "\n",
    "# The expected number of brand ads from each advertiser in a week\n",
    "advertiser_brand_frequency = {\n",
    "    adv : random.triangular(low = 0.2, high = 2.0, mode = 1.0)\n",
    "    for adv in advertiser_names\n",
    "}\n",
    "\n",
    "# The expected number of trageted ads (to targeted users) from each advertiser in a week\n",
    "advertiser_targeted_frequency = {\n",
    "    adv : random.triangular(low = 0.2, high = 2.0, mode = 1.0)\n",
    "    for adv in advertiser_names\n",
    "}\n",
    "\n",
    "# The search positions of the advertisers\n",
    "advertiser_search_position = { adv : i + 1 for i, adv in enumerate(advertiser_names)}\n",
    "\n",
    "# Brand dimensions\n",
    "# Some users prefer low price or high quality, ease of use, or other factors.\n",
    "# Users will be more likely to buy products that match the values that are most important to them.\n",
    "brand_dimensions = ['Price', 'Quality', 'Ease of Use']\n",
    "brand_dimension_advertiser_ratings = {\n",
    "    brand_dim : {\n",
    "        adv : random.random()\n",
    "        for adv in advertiser_names\n",
    "    }\n",
    "    for brand_dim in brand_dimensions\n",
    "}"
   ]
  },
  {
   "cell_type": "markdown",
   "metadata": {},
   "source": [
    "## Advertising Impact\n",
    "\n",
    "The impact of advertising diminishes as advertising increases and over time.\n",
    "For example, the impact of 10 ads to a user in a week may be less than 10 times\n",
    "the impact of 1 ad to a user in a week, and the impact of an ad 2 weeks ago is probably\n",
    "less than the impact of an ad 1 week ago.\n",
    "\n",
    "We use saturation functions to model the weekly ad saturation effect.  The decrease in ad\n",
    "impact over time is modeled by an exponential decay with a half-life that specifies the number\n",
    "of weeks when impact of the ads will decrease by one half."
   ]
  },
  {
   "cell_type": "code",
   "execution_count": 5,
   "metadata": {},
   "outputs": [],
   "source": [
    "# General sturation function\n",
    "# No saturation when the weekly ad count is not more than saturation_start.\n",
    "# Saturation with additional ads so that the total returned is never more than\n",
    "# saturation_start + saturation_range\n",
    "def ad_saturation(ad_count, saturation_start = 4, saturation_range = 6):\n",
    "    if ad_count <= saturation_start:\n",
    "        return ad_count\n",
    "    adjusted_ad_count = (ad_count - saturation_start) / saturation_range\n",
    "    return saturation_start + saturation_range * (adjusted_ad_count / (adjusted_ad_count + 1))\n",
    "\n",
    "\n",
    "# Brand sturation function\n",
    "# No saturation when the weekly ad count is not more than saturation_start.\n",
    "# Saturation with additional ads so that the total returned is never more than\n",
    "# saturation_start + saturation_range\n",
    "def weekly_brand_saturation(ad_count, saturation_start = 4, saturation_range = 6):\n",
    "    return ad_saturation(\n",
    "        ad_count,\n",
    "        saturation_start = saturation_start,\n",
    "        saturation_range = saturation_range\n",
    "    )\n",
    "\n",
    "# Targerted sturation function\n",
    "# No saturation when the weekly ad count is not more than saturation_start.\n",
    "# Saturation with additional ads so that the total returned is never more than\n",
    "# saturation_start + saturation_range\n",
    "def weekly_targeted_saturation(ad_count, saturation_start = 4, saturation_range = 6):\n",
    "    return ad_saturation(\n",
    "        ad_count,\n",
    "        saturation_start = saturation_start,\n",
    "        saturation_range = saturation_range\n",
    "    )\n",
    "\n",
    "\n",
    "# Brand half-life\n",
    "# Brand messages are half as effective after this many weeks\n",
    "brand_half_life_weeks = 12\n",
    "\n",
    "# Targerted half-life\n",
    "# Targerted messages are half as effective after this many weeks\n",
    "targeted_half_life_weeks = 2"
   ]
  },
  {
   "cell_type": "code",
   "execution_count": null,
   "metadata": {},
   "outputs": [],
   "source": []
  }
 ],
 "metadata": {
  "kernelspec": {
   "display_name": "Python 3",
   "language": "python",
   "name": "python3"
  },
  "language_info": {
   "codemirror_mode": {
    "name": "ipython",
    "version": 3
   },
   "file_extension": ".py",
   "mimetype": "text/x-python",
   "name": "python",
   "nbconvert_exporter": "python",
   "pygments_lexer": "ipython3",
   "version": "3.7.3"
  }
 },
 "nbformat": 4,
 "nbformat_minor": 2
}
